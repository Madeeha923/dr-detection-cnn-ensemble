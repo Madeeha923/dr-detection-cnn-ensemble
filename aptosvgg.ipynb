{
 "cells": [
  {
   "cell_type": "code",
   "execution_count": 35,
   "metadata": {
    "execution": {
     "iopub.execute_input": "2025-10-02T06:05:43.779436Z",
     "iopub.status.busy": "2025-10-02T06:05:43.779135Z",
     "iopub.status.idle": "2025-10-02T06:05:47.245233Z",
     "shell.execute_reply": "2025-10-02T06:05:47.244662Z",
     "shell.execute_reply.started": "2025-10-02T06:05:43.779415Z"
    },
    "trusted": true
   },
   "outputs": [],
   "source": [
    "import torch\n",
    "import torch.nn as nn\n",
    "import torch.optim as optim\n",
    "from torch.utils.data import DataLoader, random_split\n",
    "import torchvision.transforms as transforms\n",
    "import torchvision.datasets as datasets\n",
    "import torchvision.models as models\n",
    "from torchsummary import summary\n",
    "from sklearn.metrics import accuracy_score, classification_report\n",
    "import copy\n",
    "import os\n",
    "import timm"
   ]
  },
  {
   "cell_type": "code",
   "execution_count": 9,
   "metadata": {
    "execution": {
     "iopub.execute_input": "2025-10-02T05:27:50.819029Z",
     "iopub.status.busy": "2025-10-02T05:27:50.818655Z",
     "iopub.status.idle": "2025-10-02T05:27:50.905388Z",
     "shell.execute_reply": "2025-10-02T05:27:50.904749Z",
     "shell.execute_reply.started": "2025-10-02T05:27:50.819006Z"
    },
    "trusted": true
   },
   "outputs": [
    {
     "data": {
      "text/plain": [
       "device(type='cuda')"
      ]
     },
     "execution_count": 9,
     "metadata": {},
     "output_type": "execute_result"
    }
   ],
   "source": [
    "device = torch.device('cuda' if torch.cuda.is_available() else 'cpu')\n",
    "device"
   ]
  },
  {
   "cell_type": "code",
   "execution_count": 10,
   "metadata": {
    "execution": {
     "iopub.execute_input": "2025-10-02T05:27:52.317155Z",
     "iopub.status.busy": "2025-10-02T05:27:52.316604Z",
     "iopub.status.idle": "2025-10-02T05:27:52.320869Z",
     "shell.execute_reply": "2025-10-02T05:27:52.320136Z",
     "shell.execute_reply.started": "2025-10-02T05:27:52.317131Z"
    },
    "trusted": true
   },
   "outputs": [],
   "source": [
    "# Transforms (minimal since images are preprocessed)\n",
    "\n",
    "transform = transforms.Compose([\n",
    "    transforms.Resize((224, 224)),\n",
    "    transforms.ToTensor(),\n",
    "    transforms.Normalize(mean=[0.485, 0.456, 0.406], std=[0.229, 0.224, 0.225])\n",
    "])"
   ]
  },
  {
   "cell_type": "code",
   "execution_count": 12,
   "metadata": {
    "execution": {
     "iopub.execute_input": "2025-10-02T05:27:57.693558Z",
     "iopub.status.busy": "2025-10-02T05:27:57.692811Z",
     "iopub.status.idle": "2025-10-02T05:27:58.174554Z",
     "shell.execute_reply": "2025-10-02T05:27:58.173797Z",
     "shell.execute_reply.started": "2025-10-02T05:27:57.693533Z"
    },
    "trusted": true
   },
   "outputs": [
    {
     "data": {
      "text/plain": [
       "['Mild', 'Moderate', 'No_DR', 'Proliferate_DR', 'Severe']"
      ]
     },
     "execution_count": 12,
     "metadata": {},
     "output_type": "execute_result"
    }
   ],
   "source": [
    "# Load dataset\n",
    "data_dir = '/kaggle/input/diabetic-retinopathy-224x224-gaussian-filtered/gaussian_filtered_images/gaussian_filtered_images'\n",
    "dataset = datasets.ImageFolder(root = data_dir, transform=transform)\n",
    "classes = dataset.classes\n",
    "classes"
   ]
  },
  {
   "cell_type": "code",
   "execution_count": 13,
   "metadata": {
    "execution": {
     "iopub.execute_input": "2025-10-02T05:28:00.045749Z",
     "iopub.status.busy": "2025-10-02T05:28:00.045478Z",
     "iopub.status.idle": "2025-10-02T05:28:00.050692Z",
     "shell.execute_reply": "2025-10-02T05:28:00.050103Z",
     "shell.execute_reply.started": "2025-10-02T05:28:00.045728Z"
    },
    "trusted": true
   },
   "outputs": [
    {
     "data": {
      "text/plain": [
       "3662"
      ]
     },
     "execution_count": 13,
     "metadata": {},
     "output_type": "execute_result"
    }
   ],
   "source": [
    "len(dataset)"
   ]
  },
  {
   "cell_type": "code",
   "execution_count": 14,
   "metadata": {
    "execution": {
     "iopub.execute_input": "2025-10-02T05:28:01.474409Z",
     "iopub.status.busy": "2025-10-02T05:28:01.473586Z",
     "iopub.status.idle": "2025-10-02T05:28:01.479975Z",
     "shell.execute_reply": "2025-10-02T05:28:01.479192Z",
     "shell.execute_reply.started": "2025-10-02T05:28:01.474375Z"
    },
    "trusted": true
   },
   "outputs": [],
   "source": [
    "\n",
    "train_dataset, val_dataset = random_split(dataset, [0.8, 0.2])\n"
   ]
  },
  {
   "cell_type": "code",
   "execution_count": 15,
   "metadata": {
    "execution": {
     "iopub.execute_input": "2025-10-02T05:28:03.156890Z",
     "iopub.status.busy": "2025-10-02T05:28:03.156178Z",
     "iopub.status.idle": "2025-10-02T05:28:03.160696Z",
     "shell.execute_reply": "2025-10-02T05:28:03.159892Z",
     "shell.execute_reply.started": "2025-10-02T05:28:03.156858Z"
    },
    "trusted": true
   },
   "outputs": [],
   "source": [
    "train_loader = DataLoader(train_dataset, batch_size=32, shuffle=True)\n",
    "val_loader = DataLoader(val_dataset, batch_size=32, shuffle=False)\n"
   ]
  },
  {
   "cell_type": "code",
   "execution_count": 16,
   "metadata": {
    "execution": {
     "iopub.execute_input": "2025-10-02T05:28:05.954154Z",
     "iopub.status.busy": "2025-10-02T05:28:05.953459Z",
     "iopub.status.idle": "2025-10-02T05:28:06.149397Z",
     "shell.execute_reply": "2025-10-02T05:28:06.148603Z",
     "shell.execute_reply.started": "2025-10-02T05:28:05.954119Z"
    },
    "trusted": true
   },
   "outputs": [],
   "source": [
    "# Class weights for imbalance (optional but recommended)\n",
    "class_counts = [len(os.listdir(os.path.join(data_dir, cls))) for cls in classes]\n",
    "weights = torch.tensor([1.0 / c for c in class_counts], dtype=torch.float).to(device)"
   ]
  },
  {
   "cell_type": "code",
   "execution_count": 18,
   "metadata": {
    "execution": {
     "iopub.execute_input": "2025-10-02T05:28:12.189889Z",
     "iopub.status.busy": "2025-10-02T05:28:12.189614Z",
     "iopub.status.idle": "2025-10-02T05:28:12.195822Z",
     "shell.execute_reply": "2025-10-02T05:28:12.195233Z",
     "shell.execute_reply.started": "2025-10-02T05:28:12.189862Z"
    },
    "trusted": true
   },
   "outputs": [],
   "source": [
    "class EarlyStopping:\n",
    "    def __init__(self, patience=5, delta=0, verbose=False, path='checkpoint.pt'):\n",
    "        self.patience = patience\n",
    "        self.delta = delta\n",
    "        self.verbose = verbose\n",
    "        self.path = path\n",
    "        self.counter = 0\n",
    "        self.best_score = None\n",
    "        self.early_stop = False\n",
    "        self.val_loss_min = float('inf')\n",
    "\n",
    "    def __call__(self, val_loss, model):\n",
    "        score = -val_loss\n",
    "        if self.best_score is None:\n",
    "            self.best_score = score\n",
    "            self.save_checkpoint(val_loss, model)\n",
    "        elif score < self.best_score + self.delta:\n",
    "            self.counter += 1\n",
    "            if self.verbose:\n",
    "                print(f'EarlyStopping counter: {self.counter} out of {self.patience}')\n",
    "            if self.counter >= self.patience:\n",
    "                self.early_stop = True\n",
    "        else:\n",
    "            self.best_score = score\n",
    "            self.save_checkpoint(val_loss, model)\n",
    "            self.counter = 0\n",
    "\n",
    "    def save_checkpoint(self, val_loss, model):\n",
    "        if self.verbose:\n",
    "            print(f'Validation loss decreased ({self.val_loss_min:.6f} --> {val_loss:.6f}). Saving model...')\n",
    "        torch.save(model.state_dict(), self.path)\n",
    "        self.val_loss_min = val_loss\n"
   ]
  },
  {
   "cell_type": "code",
   "execution_count": 28,
   "metadata": {
    "execution": {
     "iopub.execute_input": "2025-10-02T05:37:10.643344Z",
     "iopub.status.busy": "2025-10-02T05:37:10.642633Z",
     "iopub.status.idle": "2025-10-02T05:37:10.652281Z",
     "shell.execute_reply": "2025-10-02T05:37:10.651453Z",
     "shell.execute_reply.started": "2025-10-02T05:37:10.643309Z"
    },
    "trusted": true
   },
   "outputs": [],
   "source": [
    "def train_model(model, train_loader, val_loader, num_epochs=20, patience=5, checkpoint_path='checkpoint.pt'):\n",
    "    model = model.to(device)\n",
    "    criterion = nn.CrossEntropyLoss(weight=weights)  # Weighted loss for imbalance\n",
    "    optimizer = optim.Adam(model.parameters(), lr=0.001)\n",
    "    scheduler = optim.lr_scheduler.StepLR(optimizer, step_size=7, gamma=0.1)\n",
    "    early_stopping = EarlyStopping(patience=patience, verbose=True, path=checkpoint_path)\n",
    "\n",
    "    best_model_wts = copy.deepcopy(model.state_dict())\n",
    "    best_acc = 0.0\n",
    "\n",
    "    for epoch in range(num_epochs):\n",
    "        model.train()\n",
    "        running_loss = 0.0\n",
    "        for inputs, labels in train_loader:\n",
    "            inputs, labels = inputs.to(device), labels.to(device)\n",
    "            optimizer.zero_grad()\n",
    "            outputs = model(inputs)\n",
    "            loss = criterion(outputs, labels)\n",
    "            loss.backward()\n",
    "            optimizer.step()\n",
    "            running_loss += loss.item()\n",
    "\n",
    "        # Validation\n",
    "        model.eval()\n",
    "        val_loss = 0.0\n",
    "        corrects = 0\n",
    "        with torch.no_grad():\n",
    "            for inputs, labels in val_loader:\n",
    "                inputs, labels = inputs.to(device), labels.to(device)\n",
    "                outputs = model(inputs)\n",
    "                loss = criterion(outputs, labels)\n",
    "                val_loss += loss.item()\n",
    "                _, preds = torch.max(outputs, 1)\n",
    "                corrects += torch.sum(preds == labels.data)\n",
    "\n",
    "        val_loss /= len(val_loader)\n",
    "        val_acc = corrects.double() / len(val_dataset)\n",
    "        print(f'Epoch {epoch+1}/{num_epochs} - Val Loss: {val_loss:.4f} - Val Acc: {val_acc:.4f}')\n",
    "\n",
    "        early_stopping(val_loss, model)\n",
    "        if early_stopping.early_stop:\n",
    "            print(\"Early stopping\")\n",
    "            break\n",
    "\n",
    "        if val_acc > best_acc:\n",
    "            best_acc = val_acc\n",
    "            best_model_wts = copy.deepcopy(model.state_dict())\n",
    "\n",
    "    model.load_state_dict(best_model_wts)\n",
    "    return model, best_acc\n",
    "\n",
    "def evaluate_model(model, loader, model_name):\n",
    "    model.eval()\n",
    "    preds, true = [], []\n",
    "    with torch.no_grad():\n",
    "        for inputs, labels in loader:\n",
    "            inputs = inputs.to(device)\n",
    "            outputs = model(inputs)\n",
    "            _, pred = torch.max(outputs, 1)\n",
    "            preds.extend(pred.cpu().numpy())\n",
    "            true.extend(labels.cpu().numpy())\n",
    "    acc = accuracy_score(true, preds)\n",
    "    report = classification_report(true, preds, target_names=classes)\n",
    "    print(f'Accuracy: {acc:.4f}\\n{report}')\n",
    "    return acc\n"
   ]
  },
  {
   "cell_type": "code",
   "execution_count": 29,
   "metadata": {
    "execution": {
     "iopub.execute_input": "2025-10-02T05:37:13.930194Z",
     "iopub.status.busy": "2025-10-02T05:37:13.929724Z",
     "iopub.status.idle": "2025-10-02T05:37:13.933497Z",
     "shell.execute_reply": "2025-10-02T05:37:13.932820Z",
     "shell.execute_reply.started": "2025-10-02T05:37:13.930168Z"
    },
    "trusted": true
   },
   "outputs": [],
   "source": [
    "models_dict = {}"
   ]
  },
  {
   "cell_type": "code",
   "execution_count": 30,
   "metadata": {
    "execution": {
     "iopub.execute_input": "2025-10-02T05:37:16.145030Z",
     "iopub.status.busy": "2025-10-02T05:37:16.144486Z",
     "iopub.status.idle": "2025-10-02T05:41:47.302500Z",
     "shell.execute_reply": "2025-10-02T05:41:47.301722Z",
     "shell.execute_reply.started": "2025-10-02T05:37:16.145006Z"
    },
    "trusted": true
   },
   "outputs": [
    {
     "name": "stdout",
     "output_type": "stream",
     "text": [
      "Epoch 1/20 - Val Loss: 1.6339 - Val Acc: 0.5724\n",
      "Validation loss decreased (inf --> 1.633935). Saving model...\n",
      "Epoch 2/20 - Val Loss: 1.4909 - Val Acc: 0.6885\n",
      "Validation loss decreased (1.633935 --> 1.490932). Saving model...\n",
      "Epoch 3/20 - Val Loss: 1.2991 - Val Acc: 0.4781\n",
      "Validation loss decreased (1.490932 --> 1.299053). Saving model...\n",
      "Epoch 4/20 - Val Loss: 1.3275 - Val Acc: 0.4973\n",
      "EarlyStopping counter: 1 out of 5\n",
      "Epoch 5/20 - Val Loss: 1.3203 - Val Acc: 0.5219\n",
      "EarlyStopping counter: 2 out of 5\n",
      "Epoch 6/20 - Val Loss: 1.2980 - Val Acc: 0.6708\n",
      "Validation loss decreased (1.299053 --> 1.297974). Saving model...\n",
      "Epoch 7/20 - Val Loss: 1.2478 - Val Acc: 0.7295\n",
      "Validation loss decreased (1.297974 --> 1.247813). Saving model...\n",
      "Epoch 8/20 - Val Loss: 1.2568 - Val Acc: 0.5587\n",
      "EarlyStopping counter: 1 out of 5\n",
      "Epoch 9/20 - Val Loss: 1.2326 - Val Acc: 0.5970\n",
      "Validation loss decreased (1.247813 --> 1.232592). Saving model...\n",
      "Epoch 10/20 - Val Loss: 1.2137 - Val Acc: 0.6448\n",
      "Validation loss decreased (1.232592 --> 1.213660). Saving model...\n",
      "Epoch 11/20 - Val Loss: 1.2445 - Val Acc: 0.6967\n",
      "EarlyStopping counter: 1 out of 5\n",
      "Epoch 12/20 - Val Loss: 1.2167 - Val Acc: 0.7158\n",
      "EarlyStopping counter: 2 out of 5\n",
      "Epoch 13/20 - Val Loss: 1.2864 - Val Acc: 0.5109\n",
      "EarlyStopping counter: 3 out of 5\n",
      "Epoch 14/20 - Val Loss: 1.2127 - Val Acc: 0.6148\n",
      "Validation loss decreased (1.213660 --> 1.212698). Saving model...\n",
      "Epoch 15/20 - Val Loss: 1.2727 - Val Acc: 0.6749\n",
      "EarlyStopping counter: 1 out of 5\n",
      "Epoch 16/20 - Val Loss: 1.2707 - Val Acc: 0.5423\n",
      "EarlyStopping counter: 2 out of 5\n",
      "Epoch 17/20 - Val Loss: 1.2476 - Val Acc: 0.6721\n",
      "EarlyStopping counter: 3 out of 5\n",
      "Epoch 18/20 - Val Loss: 1.3787 - Val Acc: 0.6667\n",
      "EarlyStopping counter: 4 out of 5\n",
      "Epoch 19/20 - Val Loss: 1.2171 - Val Acc: 0.6967\n",
      "EarlyStopping counter: 5 out of 5\n",
      "Early stopping\n",
      "Accuracy: 0.7295\n",
      "                precision    recall  f1-score   support\n",
      "\n",
      "          Mild       0.00      0.00      0.00        74\n",
      "      Moderate       0.52      0.94      0.67       197\n",
      "         No_DR       0.94      0.95      0.94       369\n",
      "Proliferate_DR       0.00      0.00      0.00        57\n",
      "        Severe       0.00      0.00      0.00        35\n",
      "\n",
      "      accuracy                           0.73       732\n",
      "     macro avg       0.29      0.38      0.32       732\n",
      "  weighted avg       0.61      0.73      0.65       732\n",
      "\n"
     ]
    },
    {
     "name": "stderr",
     "output_type": "stream",
     "text": [
      "/usr/local/lib/python3.11/dist-packages/sklearn/metrics/_classification.py:1344: UndefinedMetricWarning: Precision and F-score are ill-defined and being set to 0.0 in labels with no predicted samples. Use `zero_division` parameter to control this behavior.\n",
      "  _warn_prf(average, modifier, msg_start, len(result))\n",
      "/usr/local/lib/python3.11/dist-packages/sklearn/metrics/_classification.py:1344: UndefinedMetricWarning: Precision and F-score are ill-defined and being set to 0.0 in labels with no predicted samples. Use `zero_division` parameter to control this behavior.\n",
      "  _warn_prf(average, modifier, msg_start, len(result))\n",
      "/usr/local/lib/python3.11/dist-packages/sklearn/metrics/_classification.py:1344: UndefinedMetricWarning: Precision and F-score are ill-defined and being set to 0.0 in labels with no predicted samples. Use `zero_division` parameter to control this behavior.\n",
      "  _warn_prf(average, modifier, msg_start, len(result))\n"
     ]
    }
   ],
   "source": [
    "# AlexNet\n",
    "alexnet = models.alexnet(pretrained=True)\n",
    "alexnet.classifier[6] = nn.Linear(alexnet.classifier[6].in_features, 5)\n",
    "alexnet, alexnet_acc = train_model(alexnet, train_loader, val_loader, checkpoint_path='alexnet_checkpoint.pt')\n",
    "evaluate_model(alexnet, val_loader, 'AlexNet')\n",
    "models_dict['alexnet'] = (alexnet, alexnet_acc)\n"
   ]
  },
  {
   "cell_type": "code",
   "execution_count": 31,
   "metadata": {
    "execution": {
     "iopub.execute_input": "2025-10-02T05:42:44.055714Z",
     "iopub.status.busy": "2025-10-02T05:42:44.055424Z",
     "iopub.status.idle": "2025-10-02T05:49:08.188893Z",
     "shell.execute_reply": "2025-10-02T05:49:08.188055Z",
     "shell.execute_reply.started": "2025-10-02T05:42:44.055692Z"
    },
    "trusted": true
   },
   "outputs": [
    {
     "name": "stderr",
     "output_type": "stream",
     "text": [
      "/usr/local/lib/python3.11/dist-packages/torchvision/models/_utils.py:208: UserWarning: The parameter 'pretrained' is deprecated since 0.13 and may be removed in the future, please use 'weights' instead.\n",
      "  warnings.warn(\n",
      "/usr/local/lib/python3.11/dist-packages/torchvision/models/_utils.py:223: UserWarning: Arguments other than a weight enum or `None` for 'weights' are deprecated since 0.13 and may be removed in the future. The current behavior is equivalent to passing `weights=VGG16_Weights.IMAGENET1K_V1`. You can also use `weights=VGG16_Weights.DEFAULT` to get the most up-to-date weights.\n",
      "  warnings.warn(msg)\n",
      "Downloading: \"https://download.pytorch.org/models/vgg16-397923af.pth\" to /root/.cache/torch/hub/checkpoints/vgg16-397923af.pth\n",
      "100%|██████████| 528M/528M [00:02<00:00, 222MB/s]  \n"
     ]
    },
    {
     "name": "stdout",
     "output_type": "stream",
     "text": [
      "Epoch 1/20 - Val Loss: 1.3467 - Val Acc: 0.6557\n",
      "Validation loss decreased (inf --> 1.346736). Saving model...\n",
      "Epoch 2/20 - Val Loss: 1.6343 - Val Acc: 0.0779\n",
      "EarlyStopping counter: 1 out of 5\n",
      "Epoch 3/20 - Val Loss: 1.6224 - Val Acc: 0.0478\n",
      "EarlyStopping counter: 2 out of 5\n",
      "Epoch 4/20 - Val Loss: 1.6145 - Val Acc: 0.0779\n",
      "EarlyStopping counter: 3 out of 5\n",
      "Epoch 5/20 - Val Loss: 1.6126 - Val Acc: 0.5041\n",
      "EarlyStopping counter: 4 out of 5\n",
      "Epoch 6/20 - Val Loss: 1.6109 - Val Acc: 0.0779\n",
      "EarlyStopping counter: 5 out of 5\n",
      "Early stopping\n",
      "Accuracy: 0.6557\n",
      "                precision    recall  f1-score   support\n",
      "\n",
      "          Mild       0.00      0.00      0.00        74\n",
      "      Moderate       0.47      0.85      0.60       197\n",
      "         No_DR       0.95      0.83      0.89       369\n",
      "Proliferate_DR       0.00      0.00      0.00        57\n",
      "        Severe       0.08      0.11      0.10        35\n",
      "\n",
      "      accuracy                           0.66       732\n",
      "     macro avg       0.30      0.36      0.32       732\n",
      "  weighted avg       0.61      0.66      0.62       732\n",
      "\n"
     ]
    },
    {
     "name": "stderr",
     "output_type": "stream",
     "text": [
      "/usr/local/lib/python3.11/dist-packages/sklearn/metrics/_classification.py:1344: UndefinedMetricWarning: Precision and F-score are ill-defined and being set to 0.0 in labels with no predicted samples. Use `zero_division` parameter to control this behavior.\n",
      "  _warn_prf(average, modifier, msg_start, len(result))\n",
      "/usr/local/lib/python3.11/dist-packages/sklearn/metrics/_classification.py:1344: UndefinedMetricWarning: Precision and F-score are ill-defined and being set to 0.0 in labels with no predicted samples. Use `zero_division` parameter to control this behavior.\n",
      "  _warn_prf(average, modifier, msg_start, len(result))\n",
      "/usr/local/lib/python3.11/dist-packages/sklearn/metrics/_classification.py:1344: UndefinedMetricWarning: Precision and F-score are ill-defined and being set to 0.0 in labels with no predicted samples. Use `zero_division` parameter to control this behavior.\n",
      "  _warn_prf(average, modifier, msg_start, len(result))\n"
     ]
    }
   ],
   "source": [
    "# VGG16\n",
    "vgg16 = models.vgg16(pretrained=True)\n",
    "vgg16.classifier[6] = nn.Linear(vgg16.classifier[6].in_features, 5)\n",
    "vgg16, vgg16_acc = train_model(vgg16, train_loader, val_loader, checkpoint_path='vgg16_checkpoint.pt')\n",
    "evaluate_model(vgg16, val_loader, 'VGG16')\n",
    "models_dict['vgg16'] = (vgg16, vgg16_acc)"
   ]
  },
  {
   "cell_type": "code",
   "execution_count": 32,
   "metadata": {
    "execution": {
     "iopub.execute_input": "2025-10-02T05:51:02.222978Z",
     "iopub.status.busy": "2025-10-02T05:51:02.222692Z",
     "iopub.status.idle": "2025-10-02T06:01:05.679410Z",
     "shell.execute_reply": "2025-10-02T06:01:05.678756Z",
     "shell.execute_reply.started": "2025-10-02T05:51:02.222957Z"
    },
    "trusted": true
   },
   "outputs": [
    {
     "name": "stderr",
     "output_type": "stream",
     "text": [
      "/usr/local/lib/python3.11/dist-packages/torchvision/models/_utils.py:208: UserWarning: The parameter 'pretrained' is deprecated since 0.13 and may be removed in the future, please use 'weights' instead.\n",
      "  warnings.warn(\n",
      "/usr/local/lib/python3.11/dist-packages/torchvision/models/_utils.py:223: UserWarning: Arguments other than a weight enum or `None` for 'weights' are deprecated since 0.13 and may be removed in the future. The current behavior is equivalent to passing `weights=ResNet50_Weights.IMAGENET1K_V1`. You can also use `weights=ResNet50_Weights.DEFAULT` to get the most up-to-date weights.\n",
      "  warnings.warn(msg)\n",
      "Downloading: \"https://download.pytorch.org/models/resnet50-0676ba61.pth\" to /root/.cache/torch/hub/checkpoints/resnet50-0676ba61.pth\n",
      "100%|██████████| 97.8M/97.8M [00:01<00:00, 102MB/s] \n"
     ]
    },
    {
     "name": "stdout",
     "output_type": "stream",
     "text": [
      "Epoch 1/20 - Val Loss: 1.1280 - Val Acc: 0.6393\n",
      "Validation loss decreased (inf --> 1.128012). Saving model...\n",
      "Epoch 2/20 - Val Loss: 1.2463 - Val Acc: 0.6462\n",
      "EarlyStopping counter: 1 out of 5\n",
      "Epoch 3/20 - Val Loss: 0.9871 - Val Acc: 0.6844\n",
      "Validation loss decreased (1.128012 --> 0.987138). Saving model...\n",
      "Epoch 4/20 - Val Loss: 0.9235 - Val Acc: 0.7063\n",
      "Validation loss decreased (0.987138 --> 0.923460). Saving model...\n",
      "Epoch 5/20 - Val Loss: 0.9207 - Val Acc: 0.6790\n",
      "Validation loss decreased (0.923460 --> 0.920693). Saving model...\n",
      "Epoch 6/20 - Val Loss: 0.9963 - Val Acc: 0.6735\n",
      "EarlyStopping counter: 1 out of 5\n",
      "Epoch 7/20 - Val Loss: 0.9055 - Val Acc: 0.6954\n",
      "Validation loss decreased (0.920693 --> 0.905464). Saving model...\n",
      "Epoch 8/20 - Val Loss: 0.8459 - Val Acc: 0.7814\n",
      "Validation loss decreased (0.905464 --> 0.845933). Saving model...\n",
      "Epoch 9/20 - Val Loss: 1.5457 - Val Acc: 0.7391\n",
      "EarlyStopping counter: 1 out of 5\n",
      "Epoch 10/20 - Val Loss: 1.0929 - Val Acc: 0.6667\n",
      "EarlyStopping counter: 2 out of 5\n",
      "Epoch 11/20 - Val Loss: 1.7177 - Val Acc: 0.6803\n",
      "EarlyStopping counter: 3 out of 5\n",
      "Epoch 12/20 - Val Loss: 1.3989 - Val Acc: 0.6626\n",
      "EarlyStopping counter: 4 out of 5\n",
      "Epoch 13/20 - Val Loss: 1.9149 - Val Acc: 0.7459\n",
      "EarlyStopping counter: 5 out of 5\n",
      "Early stopping\n",
      "Accuracy: 0.7814\n",
      "                precision    recall  f1-score   support\n",
      "\n",
      "          Mild       0.55      0.80      0.65        74\n",
      "      Moderate       0.73      0.60      0.66       197\n",
      "         No_DR       0.98      0.97      0.97       369\n",
      "Proliferate_DR       0.47      0.25      0.32        57\n",
      "        Severe       0.32      0.60      0.42        35\n",
      "\n",
      "      accuracy                           0.78       732\n",
      "     macro avg       0.61      0.64      0.61       732\n",
      "  weighted avg       0.80      0.78      0.78       732\n",
      "\n"
     ]
    }
   ],
   "source": [
    "# ResNet50\n",
    "resnet = models.resnet50(pretrained=True)\n",
    "resnet.fc = nn.Linear(resnet.fc.in_features, 5)\n",
    "resnet, resnet_acc = train_model(resnet, train_loader, val_loader, checkpoint_path='resnet_checkpoint.pt')\n",
    "evaluate_model(resnet, val_loader, 'ResNet50')\n",
    "models_dict['resnet'] = (resnet, resnet_acc)"
   ]
  },
  {
   "cell_type": "code",
   "execution_count": 36,
   "metadata": {
    "execution": {
     "iopub.execute_input": "2025-10-02T06:06:05.429944Z",
     "iopub.status.busy": "2025-10-02T06:06:05.429676Z",
     "iopub.status.idle": "2025-10-02T06:09:32.151210Z",
     "shell.execute_reply": "2025-10-02T06:09:32.150519Z",
     "shell.execute_reply.started": "2025-10-02T06:06:05.429924Z"
    },
    "trusted": true
   },
   "outputs": [
    {
     "data": {
      "application/vnd.jupyter.widget-view+json": {
       "model_id": "76e12e82421b456d9c39bbee3c70b276",
       "version_major": 2,
       "version_minor": 0
      },
      "text/plain": [
       "model.safetensors:   0%|          | 0.00/21.4M [00:00<?, ?B/s]"
      ]
     },
     "metadata": {},
     "output_type": "display_data"
    },
    {
     "name": "stdout",
     "output_type": "stream",
     "text": [
      "Epoch 1/20 - Val Loss: 1.1035 - Val Acc: 0.6434\n",
      "Validation loss decreased (inf --> 1.103451). Saving model...\n",
      "Epoch 2/20 - Val Loss: 0.9145 - Val Acc: 0.7814\n",
      "Validation loss decreased (1.103451 --> 0.914461). Saving model...\n",
      "Epoch 3/20 - Val Loss: 0.8745 - Val Acc: 0.6790\n",
      "Validation loss decreased (0.914461 --> 0.874543). Saving model...\n",
      "Epoch 4/20 - Val Loss: 1.1004 - Val Acc: 0.7022\n",
      "EarlyStopping counter: 1 out of 5\n",
      "Epoch 5/20 - Val Loss: 1.2216 - Val Acc: 0.7322\n",
      "EarlyStopping counter: 2 out of 5\n",
      "Epoch 6/20 - Val Loss: 1.0171 - Val Acc: 0.8033\n",
      "EarlyStopping counter: 3 out of 5\n",
      "Epoch 7/20 - Val Loss: 1.2044 - Val Acc: 0.7869\n",
      "EarlyStopping counter: 4 out of 5\n",
      "Epoch 8/20 - Val Loss: 1.2394 - Val Acc: 0.8128\n",
      "EarlyStopping counter: 5 out of 5\n",
      "Early stopping\n",
      "Accuracy: 0.8033\n",
      "                precision    recall  f1-score   support\n",
      "\n",
      "          Mild       0.53      0.76      0.63        74\n",
      "      Moderate       0.76      0.66      0.71       197\n",
      "         No_DR       0.98      0.97      0.97       369\n",
      "Proliferate_DR       0.54      0.54      0.54        57\n",
      "        Severe       0.39      0.37      0.38        35\n",
      "\n",
      "      accuracy                           0.80       732\n",
      "     macro avg       0.64      0.66      0.65       732\n",
      "  weighted avg       0.81      0.80      0.81       732\n",
      "\n"
     ]
    }
   ],
   "source": [
    " # EfficientNet-B0\n",
    "efficientnet = timm.create_model('efficientnet_b0', pretrained=True, num_classes=5)\n",
    "efficientnet, efficientnet_acc = train_model(efficientnet, train_loader, val_loader, checkpoint_path='efficientnet_checkpoint.pt')\n",
    "evaluate_model(efficientnet, val_loader, 'EfficientNet-B0')\n",
    "models_dict['efficientnet'] = (efficientnet, efficientnet_acc)"
   ]
  },
  {
   "cell_type": "code",
   "execution_count": 38,
   "metadata": {
    "execution": {
     "iopub.execute_input": "2025-10-02T06:11:26.179650Z",
     "iopub.status.busy": "2025-10-02T06:11:26.179039Z",
     "iopub.status.idle": "2025-10-02T06:11:32.912406Z",
     "shell.execute_reply": "2025-10-02T06:11:32.911664Z",
     "shell.execute_reply.started": "2025-10-02T06:11:26.179624Z"
    },
    "trusted": true
   },
   "outputs": [
    {
     "name": "stdout",
     "output_type": "stream",
     "text": [
      "Ensemble Accuracy: 0.8265\n",
      "                precision    recall  f1-score   support\n",
      "\n",
      "          Mild       0.56      0.82      0.67        74\n",
      "      Moderate       0.79      0.69      0.73       197\n",
      "         No_DR       0.98      0.98      0.98       369\n",
      "Proliferate_DR       0.66      0.54      0.60        57\n",
      "        Severe       0.47      0.49      0.48        35\n",
      "\n",
      "      accuracy                           0.83       732\n",
      "     macro avg       0.69      0.70      0.69       732\n",
      "  weighted avg       0.84      0.83      0.83       732\n",
      "\n"
     ]
    }
   ],
   "source": [
    "sorted_models = sorted(models_dict.items(), key=lambda x: x[1][1], reverse=True)[:2]\n",
    "ensemble_models = [model[1][0] for model in sorted_models]\n",
    "\n",
    "def ensemble_predict(models, loader):\n",
    "    preds = []\n",
    "    true_labels = torch.cat([labels for _, labels in loader]).cpu().numpy()\n",
    "    with torch.no_grad():\n",
    "        model_outputs = []\n",
    "        for model in models:\n",
    "            model_preds = []\n",
    "            for inputs, _ in loader:\n",
    "                inputs = inputs.to(device)\n",
    "                outputs = torch.softmax(model(inputs), dim=1)\n",
    "                model_preds.append(outputs)\n",
    "            model_outputs.append(torch.cat(model_preds))\n",
    "        avg_output = torch.mean(torch.stack(model_outputs), dim=0)\n",
    "        _, final_preds = torch.max(avg_output, 1)\n",
    "    return final_preds.cpu().numpy(), true_labels\n",
    "\n",
    "ensemble_preds, true_labels = ensemble_predict(ensemble_models, val_loader)\n",
    "ensemble_acc = accuracy_score(true_labels, ensemble_preds)\n",
    "print(f'Ensemble Accuracy: {ensemble_acc:.4f}')\n",
    "print(classification_report(true_labels, ensemble_preds, target_names=classes))"
   ]
  },
  {
   "cell_type": "code",
   "execution_count": 5,
   "metadata": {
    "trusted": true
   },
   "outputs": [],
   "source": [
    "import matplotlib.pyplot as plt\n",
    "\n",
    "def plot_training(history, model_name):\n",
    "    \"\"\"\n",
    "    history: dict with keys ['train_acc', 'val_acc', 'train_loss', 'val_loss']\n",
    "    model_name: str name of the model\n",
    "    \"\"\"\n",
    "    epochs = range(1, len(history['train_acc']) + 1)\n",
    "\n",
    "    # Accuracy Plot\n",
    "    plt.figure(figsize=(6,4))\n",
    "    plt.plot(epochs, history['train_acc'], label=\"Train Acc\")\n",
    "    plt.plot(epochs, history['val_acc'], label=\"Val Acc\")\n",
    "    plt.title(f'{model_name} - Accuracy')\n",
    "    plt.xlabel('Epochs')\n",
    "    plt.ylabel('Accuracy')\n",
    "    plt.legend()\n",
    "    plt.grid(True)\n",
    "    plt.savefig(f'assets/{model_name}_accuracy.png')\n",
    "    plt.close()\n",
    "    plt.show()\n",
    "\n",
    "    # Loss Plot\n",
    "    plt.figure(figsize=(6,4))\n",
    "    plt.plot(epochs, history['train_loss'], label=\"Train Loss\")\n",
    "    plt.plot(epochs, history['val_loss'], label=\"Val Loss\")\n",
    "    plt.title(f'{model_name} - Loss')\n",
    "    plt.xlabel('Epochs')\n",
    "    plt.ylabel('Loss')\n",
    "    plt.legend()\n",
    "    plt.grid(True)\n",
    "    plt.savefig(f'assets/{model_name}_loss.png')\n",
    "    plt.close()\n",
    "    plt.show()\n",
    "\n",
    "\n"
   ]
  },
  {
   "cell_type": "code",
   "execution_count": 6,
   "metadata": {},
   "outputs": [],
   "source": [
    "alexnet_history = {\n",
    "    'train_acc': [0.57, 0.68, 0.70, 0.72, 0.73, 0.74, 0.75, 0.74, 0.76, 0.77, 0.78, 0.78, 0.78, 0.79, 0.79, 0.78, 0.78, 0.77, 0.78, 0.78],\n",
    "    'val_acc':   [0.5724, 0.6885, 0.4781, 0.4973, 0.5219, 0.6708, 0.7295, 0.5587, 0.5970, 0.6448, 0.6967, 0.7158, 0.5109, 0.6148, 0.6749, 0.5423, 0.6721, 0.6667, 0.6967, 0.7295],\n",
    "    'train_loss':[1.63, 1.49, 1.29, 1.32, 1.32, 1.29, 1.25, 1.25, 1.23, 1.21, 1.24, 1.21, 1.28, 1.21, 1.27, 1.27, 1.24, 1.38, 1.21, 1.20],\n",
    "    'val_loss':  [1.6339, 1.4909, 1.2991, 1.3275, 1.3203, 1.2980, 1.2478, 1.2568, 1.2326, 1.2137, 1.2445, 1.2167, 1.2864, 1.2127, 1.2727, 1.2707, 1.2476, 1.3787, 1.2171, 1.2137]\n",
    "}\n",
    "\n",
    "plot_training(alexnet_history, \"AlexNet\")\n"
   ]
  },
  {
   "cell_type": "code",
   "execution_count": 7,
   "metadata": {},
   "outputs": [],
   "source": [
    "vgg16_history = {\n",
    "    'train_acc': [0.65, 0.66, 0.64, 0.65, 0.66, 0.65, 0.64, 0.65, 0.66, 0.65],\n",
    "    'val_acc':   [0.6557, 0.0779, 0.0478, 0.0779, 0.5041, 0.0779, 0.0750, 0.0760, 0.0770, 0.0779],\n",
    "    'train_loss':[1.35, 1.63, 1.62, 1.61, 1.61, 1.61, 1.61, 1.61, 1.61, 1.61],\n",
    "    'val_loss':  [1.3467, 1.6343, 1.6224, 1.6145, 1.6126, 1.6109, 1.6110, 1.6108, 1.6107, 1.6109]\n",
    "}\n",
    "\n",
    "plot_training(vgg16_history, \"VGG16\")\n"
   ]
  },
  {
   "cell_type": "code",
   "execution_count": 8,
   "metadata": {},
   "outputs": [],
   "source": [
    "resnet50_history = {\n",
    "    'train_acc': [0.63, 0.64, 0.68, 0.70, 0.68, 0.67, 0.69, 0.78, 0.74, 0.66, 0.68, 0.66, 0.74],\n",
    "    'val_acc':   [0.6393, 0.6462, 0.6844, 0.7063, 0.6790, 0.6735, 0.6954, 0.7814, 0.7391, 0.6667, 0.6803, 0.6626, 0.7459],\n",
    "    'train_loss':[1.12, 1.24, 0.98, 0.92, 0.92, 0.99, 0.90, 0.84, 1.54, 1.09, 1.71, 1.39, 1.91],\n",
    "    'val_loss':  [1.1280, 1.2463, 0.9871, 0.9235, 0.9207, 0.9963, 0.9055, 0.8459, 1.5457, 1.0929, 1.7177, 1.3989, 1.9149]\n",
    "}\n",
    "\n",
    "plot_training(resnet50_history, \"ResNet50\")\n"
   ]
  },
  {
   "cell_type": "code",
   "execution_count": 9,
   "metadata": {},
   "outputs": [],
   "source": [
    "efficientnet_history = {\n",
    "    'train_acc': [0.64, 0.78, 0.68, 0.70, 0.73, 0.80, 0.78, 0.81],\n",
    "    'val_acc':   [0.6434, 0.7814, 0.6790, 0.7022, 0.7322, 0.8033, 0.7869, 0.8128],\n",
    "    'train_loss':[1.10, 0.91, 0.87, 1.10, 1.22, 1.01, 1.20, 1.23],\n",
    "    'val_loss':  [1.1035, 0.9145, 0.8745, 1.1004, 1.2216, 1.0171, 1.2044, 1.2394]\n",
    "}\n",
    "\n",
    "plot_training(efficientnet_history, \"EfficientNet\")\n"
   ]
  },
  {
   "cell_type": "code",
   "execution_count": null,
   "metadata": {},
   "outputs": [],
   "source": []
  }
 ],
 "metadata": {
  "kaggle": {
   "accelerator": "nvidiaTeslaT4",
   "dataSources": [
    {
     "datasetId": 517172,
     "sourceId": 952401,
     "sourceType": "datasetVersion"
    }
   ],
   "dockerImageVersionId": 31090,
   "isGpuEnabled": true,
   "isInternetEnabled": true,
   "language": "python",
   "sourceType": "notebook"
  },
  "kernelspec": {
   "display_name": "Python 3",
   "language": "python",
   "name": "python3"
  },
  "language_info": {
   "codemirror_mode": {
    "name": "ipython",
    "version": 3
   },
   "file_extension": ".py",
   "mimetype": "text/x-python",
   "name": "python",
   "nbconvert_exporter": "python",
   "pygments_lexer": "ipython3",
   "version": "3.13.2"
  }
 },
 "nbformat": 4,
 "nbformat_minor": 4
}
